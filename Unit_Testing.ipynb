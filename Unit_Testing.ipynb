{
  "nbformat": 4,
  "nbformat_minor": 0,
  "metadata": {
    "colab": {
      "provenance": [],
      "authorship_tag": "ABX9TyN2SmcBWWps4fqz9ArioPTt",
      "include_colab_link": true
    },
    "kernelspec": {
      "name": "python3",
      "display_name": "Python 3"
    },
    "language_info": {
      "name": "python"
    }
  },
  "cells": [
    {
      "cell_type": "markdown",
      "metadata": {
        "id": "view-in-github",
        "colab_type": "text"
      },
      "source": [
        "<a href=\"https://colab.research.google.com/github/maryjess/cloud/blob/patch-4/Unit_Testing.ipynb\" target=\"_parent\"><img src=\"https://colab.research.google.com/assets/colab-badge.svg\" alt=\"Open In Colab\"/></a>"
      ]
    },
    {
      "cell_type": "markdown",
      "source": [
        "# Steps\n",
        "\n",
        "## Part A\n",
        "\n",
        "1. Define function called `increment()` takes in integer as input, returns integer + 1\n",
        "\n",
        "2. Define test function called `test_increment()`\n",
        "\n",
        "3. Inside test function, assert that\n",
        "(as in, give few test cases where:)\n",
        "\n",
        "```\n",
        "increment(3) = 4\n",
        "increment(5) = 6\n",
        "increment(-2) should raise AssertionError\n",
        "```\n",
        "\n",
        "4. Call `test_increment()` function to execute all asserts\n",
        "\n",
        "5. Use try/except to handle `AssertionErrors`"
      ],
      "metadata": {
        "id": "_d70Q3wghRt_"
      }
    },
    {
      "cell_type": "markdown",
      "source": [
        "## How `AssertionError` works\n",
        "```\n",
        "# AssertionError with error_message.\n",
        "\n",
        "x = 1\n",
        "y = 0\n",
        "assert y != 0, \"Invalid Operation\"   \n",
        "     # denominator can't be 0\n",
        "print(x / y)\n",
        "```\n",
        "\n",
        "## Output\n",
        "\n",
        "```\n",
        "Traceback (most recent call last):\n",
        "  File \"./filename.py\", line 4, in\n",
        "    assert y!=0, \"Invalid Operation\" # denominator can't be 0\n",
        "AssertionError: Invalid Operation\n",
        "```"
      ],
      "metadata": {
        "id": "FIue-DYCmSmv"
      }
    },
    {
      "cell_type": "code",
      "source": [
        "def increment(value):\n",
        "    return value + 1\n",
        "\n",
        "def test_increment():\n",
        "    # assert increment(value) == value + 1 <--- why not this?\n",
        "\n",
        "    try:\n",
        "        assert increment(3) == 4 # Correct input\n",
        "        assert increment(5) == 6 # Correct input\n",
        "\n",
        "        # Invalid operation\n",
        "        assert increment(-2) == 1, \"Invalid Operation, Increment will always plus by one\"\n",
        "\n",
        "    except AssertionError as e:\n",
        "        print(f\"AssertionError detected, {e}\")\n",
        ""
      ],
      "metadata": {
        "id": "d-JxuSFIiQcO"
      },
      "execution_count": 15,
      "outputs": []
    },
    {
      "cell_type": "code",
      "source": [
        "test_increment()"
      ],
      "metadata": {
        "colab": {
          "base_uri": "https://localhost:8080/"
        },
        "id": "Lf4y0m2EivQJ",
        "outputId": "339a4733-918a-475d-b8e1-6c1341104f02"
      },
      "execution_count": 16,
      "outputs": [
        {
          "output_type": "stream",
          "name": "stdout",
          "text": [
            "AssertionError detected, Invalid Operation, Increment will always plus by one\n"
          ]
        }
      ]
    },
    {
      "cell_type": "markdown",
      "source": [
        "## Part B\n",
        "\n",
        "Define two more functions + corresponding test functions"
      ],
      "metadata": {
        "id": "elS5YRMgiQ9K"
      }
    },
    {
      "cell_type": "code",
      "source": [
        "# Example Function 1\n",
        "# Context: there is no incorrect input\n",
        "\n",
        "def decrement(value):\n",
        "    return value - 1\n",
        "\n",
        "def decrement_test():\n",
        "    # --- does decrement() accept negative values as well?\n",
        "    # --- if yes then -1 is input correct lor\n",
        "    assert decrement(-1) == -2\n",
        "\n",
        "    # --- correct input and correct operation\n",
        "    assert decrement(3) == 2\n",
        "\n",
        "    # --- incorrect operation\n",
        "    assert decrement(3) != 4, \"Incorrect operation for input 3, expected: 2, actual was: 4\""
      ],
      "metadata": {
        "id": "s0dq5BoHxdUA"
      },
      "execution_count": 38,
      "outputs": []
    },
    {
      "cell_type": "code",
      "source": [
        "decrement_test()"
      ],
      "metadata": {
        "id": "Ch5R0yPS3bMo"
      },
      "execution_count": 39,
      "outputs": []
    },
    {
      "cell_type": "code",
      "source": [
        "# Example Function 2\n",
        "# Context: May cause division error\n",
        "\n",
        "# a will always be correct\n",
        "# b if negative value then incorrect input\n",
        "def divide(a, b):\n",
        "    return a / b\n",
        "\n",
        "def divide_test():\n",
        "    # --- correct input, correct operation\n",
        "    assert divide(1, 2) == 0.5\n",
        "\n",
        "    # --- correct input, incorrect operation\n",
        "    assert divide(1, 2) != 2\n",
        "\n",
        "    # --- incorrect input, will always raise error\n",
        "    try:\n",
        "        assert divide(1, 0) == 1, \"ZeroDivisionError\"\n",
        "    except:\n",
        "        print(\"ZeroDivisionError detected for 1 and 0\")"
      ],
      "metadata": {
        "id": "QKYLM6Psx6nr"
      },
      "execution_count": 36,
      "outputs": []
    },
    {
      "cell_type": "code",
      "source": [
        "divide_test()"
      ],
      "metadata": {
        "colab": {
          "base_uri": "https://localhost:8080/"
        },
        "id": "P3Vr30Bd2vcH",
        "outputId": "992c29e2-5974-4a06-a95d-80662af753c2"
      },
      "execution_count": 37,
      "outputs": [
        {
          "output_type": "stream",
          "name": "stdout",
          "text": [
            "ZeroDivisionError detected for 1 and 0\n"
          ]
        }
      ]
    }
  ]
}
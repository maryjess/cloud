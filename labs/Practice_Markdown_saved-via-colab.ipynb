{
  "nbformat": 4,
  "nbformat_minor": 0,
  "metadata": {
    "colab": {
      "provenance": [],
      "authorship_tag": "ABX9TyNHXB25EzGoUhAMNAI9X3bp",
      "include_colab_link": true
    },
    "kernelspec": {
      "name": "python3",
      "display_name": "Python 3"
    },
    "language_info": {
      "name": "python"
    }
  },
  "cells": [
    {
      "cell_type": "markdown",
      "metadata": {
        "id": "view-in-github",
        "colab_type": "text"
      },
      "source": [
        "<a href=\"https://colab.research.google.com/github/maryjess/cloud/blob/patch-2/labs/Practice_Markdown_saved-via-colab.ipynb\" target=\"_parent\"><img src=\"https://colab.research.google.com/assets/colab-badge.svg\" alt=\"Open In Colab\"/></a>"
      ]
    },
    {
      "cell_type": "markdown",
      "source": [
        "# Practice Markdown\n",
        "to-do:\n",
        "* Reproducible code: print string \"Hello world\" in Python\n",
        "* Download `.ipynb` and check in on GitHub (share link)\n",
        "* In Colab, share to GitHub."
      ],
      "metadata": {
        "id": "kTwTbnYXbNNN"
      }
    },
    {
      "cell_type": "code",
      "source": [
        "print(\"hello world\")"
      ],
      "metadata": {
        "id": "hIxP_mXRbQl0"
      },
      "execution_count": null,
      "outputs": []
    }
  ]
}
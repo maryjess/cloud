{
  "nbformat": 4,
  "nbformat_minor": 0,
  "metadata": {
    "colab": {
      "provenance": []
    },
    "kernelspec": {
      "name": "python3",
      "display_name": "Python 3"
    },
    "language_info": {
      "name": "python"
    }
  },
  "cells": [
    {
      "cell_type": "markdown",
      "source": [
        "# Practice Markdown\n",
        "to-do:\n",
        "* Reproducible code: print string \"Hello world\" in Python\n",
        "* Download `.ipynb` and check in on GitHub (share link)\n",
        "* In Colab, share to GitHub."
      ],
      "metadata": {
        "id": "kTwTbnYXbNNN"
      }
    },
    {
      "cell_type": "code",
      "source": [
        "print(\"hello world\")"
      ],
      "metadata": {
        "id": "hIxP_mXRbQl0"
      },
      "execution_count": null,
      "outputs": []
    }
  ]
}